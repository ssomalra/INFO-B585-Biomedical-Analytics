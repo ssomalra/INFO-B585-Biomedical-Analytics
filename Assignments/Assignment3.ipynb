{
  "cells": [
    {
      "cell_type": "markdown",
      "metadata": {
        "id": "sAsF2_DeD7gc"
      },
      "source": [
        "## 1. The monthly ambulatory visit shown in the following occurred in an outpatient clinic."
      ]
    },
    {
      "cell_type": "code",
      "execution_count": null,
      "metadata": {
        "colab": {
          "base_uri": "https://localhost:8080/",
          "height": 286
        },
        "id": "ZS3XLgVODnhG",
        "outputId": "ed07f8c4-6e29-4634-f368-62bcedc0d268"
      },
      "outputs": [
        {
          "output_type": "display_data",
          "data": {
            "text/html": [
              "<table class=\"dataframe\">\n",
              "<caption>A data.frame: 6 × 2</caption>\n",
              "<thead>\n",
              "\t<tr><th scope=col>Months</th><th scope=col>Visits</th></tr>\n",
              "\t<tr><th scope=col>&lt;chr&gt;</th><th scope=col>&lt;int&gt;</th></tr>\n",
              "</thead>\n",
              "<tbody>\n",
              "\t<tr><td>January </td><td>1620</td></tr>\n",
              "\t<tr><td>February</td><td>1567</td></tr>\n",
              "\t<tr><td>March   </td><td>1968</td></tr>\n",
              "\t<tr><td>April   </td><td>1757</td></tr>\n",
              "\t<tr><td>May     </td><td>1633</td></tr>\n",
              "\t<tr><td>June    </td><td>1865</td></tr>\n",
              "</tbody>\n",
              "</table>\n"
            ],
            "text/markdown": "\nA data.frame: 6 × 2\n\n| Months &lt;chr&gt; | Visits &lt;int&gt; |\n|---|---|\n| January  | 1620 |\n| February | 1567 |\n| March    | 1968 |\n| April    | 1757 |\n| May      | 1633 |\n| June     | 1865 |\n\n",
            "text/latex": "A data.frame: 6 × 2\n\\begin{tabular}{ll}\n Months & Visits\\\\\n <chr> & <int>\\\\\n\\hline\n\t January  & 1620\\\\\n\t February & 1567\\\\\n\t March    & 1968\\\\\n\t April    & 1757\\\\\n\t May      & 1633\\\\\n\t June     & 1865\\\\\n\\end{tabular}\n",
            "text/plain": [
              "  Months   Visits\n",
              "1 January  1620  \n",
              "2 February 1567  \n",
              "3 March    1968  \n",
              "4 April    1757  \n",
              "5 May      1633  \n",
              "6 June     1865  "
            ]
          },
          "metadata": {}
        }
      ],
      "source": [
        "ambulatory <- read.table(\"assign3_ques1.txt\", sep=\"\\t\", header=TRUE)\n",
        "ambulatory"
      ]
    },
    {
      "cell_type": "markdown",
      "metadata": {
        "id": "aTuv2-l-ELT7"
      },
      "source": [
        "###A. Predict visits for July using the naive forecast method."
      ]
    },
    {
      "cell_type": "code",
      "execution_count": null,
      "metadata": {
        "colab": {
          "base_uri": "https://localhost:8080/",
          "height": 34
        },
        "id": "h4zy4kI8_9LA",
        "outputId": "f5562260-89a2-44e4-b6cd-a7242a02ceb1"
      },
      "outputs": [
        {
          "output_type": "display_data",
          "data": {
            "text/html": [
              "1865"
            ],
            "text/markdown": "1865",
            "text/latex": "1865",
            "text/plain": [
              "[1] 1865"
            ]
          },
          "metadata": {}
        }
      ],
      "source": [
        "naive_july <- ambulatory$Visits[ambulatory$Months == 'June']\n",
        "naive_july"
      ]
    },
    {
      "cell_type": "markdown",
      "metadata": {
        "id": "GWzSWt8PCzoT"
      },
      "source": [
        "### B. Predict visits for July using a two-period moving average."
      ]
    },
    {
      "cell_type": "code",
      "execution_count": null,
      "metadata": {
        "colab": {
          "base_uri": "https://localhost:8080/",
          "height": 34
        },
        "id": "duzKtMJsC3EZ",
        "outputId": "00ca706e-af57-484f-b6ed-242c01dcd39d"
      },
      "outputs": [
        {
          "output_type": "display_data",
          "data": {
            "text/html": [
              "1749"
            ],
            "text/markdown": "1749",
            "text/latex": "1749",
            "text/plain": [
              "[1] 1749"
            ]
          },
          "metadata": {}
        }
      ],
      "source": [
        "two_period_july <- mean(tail(ambulatory$Visits, 2))\n",
        "two_period_july"
      ]
    },
    {
      "cell_type": "markdown",
      "metadata": {
        "id": "tS-fMn6qFUI2"
      },
      "source": [
        "### C. Predict visits for July using a four-period moving average."
      ]
    },
    {
      "cell_type": "code",
      "execution_count": null,
      "metadata": {
        "colab": {
          "base_uri": "https://localhost:8080/",
          "height": 34
        },
        "id": "mWXkAX1aFTbb",
        "outputId": "82cb33b4-fb90-4baf-a2ff-1be6419f44f5"
      },
      "outputs": [
        {
          "output_type": "display_data",
          "data": {
            "text/html": [
              "1805.75"
            ],
            "text/markdown": "1805.75",
            "text/latex": "1805.75",
            "text/plain": [
              "[1] 1805.75"
            ]
          },
          "metadata": {}
        }
      ],
      "source": [
        "four_period_july <- mean(tail(ambulatory$Visits, 4))\n",
        "four_period_july\n",
        "# visits for july using 4-period moving average is 1806."
      ]
    },
    {
      "cell_type": "markdown",
      "metadata": {
        "id": "kQDUj-eCFtXr"
      },
      "source": [
        "## 2. For the following data:"
      ]
    },
    {
      "cell_type": "code",
      "execution_count": null,
      "metadata": {
        "colab": {
          "base_uri": "https://localhost:8080/",
          "height": 474
        },
        "id": "laoKcon_FzkZ",
        "outputId": "3c4f80e4-fe3f-4105-bd48-372da486f1f8"
      },
      "outputs": [
        {
          "data": {
            "text/html": [
              "<table class=\"dataframe\">\n",
              "<caption>A data.frame: 12 × 2</caption>\n",
              "<thead>\n",
              "\t<tr><th scope=col>Month</th><th scope=col>Patient.days</th></tr>\n",
              "\t<tr><th scope=col>&lt;chr&gt;</th><th scope=col>&lt;int&gt;</th></tr>\n",
              "</thead>\n",
              "<tbody>\n",
              "\t<tr><td>January  </td><td>434</td></tr>\n",
              "\t<tr><td>February </td><td>483</td></tr>\n",
              "\t<tr><td>March    </td><td>412</td></tr>\n",
              "\t<tr><td>April    </td><td>423</td></tr>\n",
              "\t<tr><td>May      </td><td>484</td></tr>\n",
              "\t<tr><td>June     </td><td>453</td></tr>\n",
              "\t<tr><td>July     </td><td>433</td></tr>\n",
              "\t<tr><td>August   </td><td>404</td></tr>\n",
              "\t<tr><td>September</td><td>464</td></tr>\n",
              "\t<tr><td>October  </td><td>403</td></tr>\n",
              "\t<tr><td>November </td><td>452</td></tr>\n",
              "\t<tr><td>December </td><td>491</td></tr>\n",
              "</tbody>\n",
              "</table>\n"
            ],
            "text/latex": "A data.frame: 12 × 2\n\\begin{tabular}{ll}\n Month & Patient.days\\\\\n <chr> & <int>\\\\\n\\hline\n\t January   & 434\\\\\n\t February  & 483\\\\\n\t March     & 412\\\\\n\t April     & 423\\\\\n\t May       & 484\\\\\n\t June      & 453\\\\\n\t July      & 433\\\\\n\t August    & 404\\\\\n\t September & 464\\\\\n\t October   & 403\\\\\n\t November  & 452\\\\\n\t December  & 491\\\\\n\\end{tabular}\n",
            "text/markdown": "\nA data.frame: 12 × 2\n\n| Month &lt;chr&gt; | Patient.days &lt;int&gt; |\n|---|---|\n| January   | 434 |\n| February  | 483 |\n| March     | 412 |\n| April     | 423 |\n| May       | 484 |\n| June      | 453 |\n| July      | 433 |\n| August    | 404 |\n| September | 464 |\n| October   | 403 |\n| November  | 452 |\n| December  | 491 |\n\n",
            "text/plain": [
              "   Month     Patient.days\n",
              "1  January   434         \n",
              "2  February  483         \n",
              "3  March     412         \n",
              "4  April     423         \n",
              "5  May       484         \n",
              "6  June      453         \n",
              "7  July      433         \n",
              "8  August    404         \n",
              "9  September 464         \n",
              "10 October   403         \n",
              "11 November  452         \n",
              "12 December  491         "
            ]
          },
          "metadata": {},
          "output_type": "display_data"
        }
      ],
      "source": [
        "days <- read.table(\"assign3_ques2.txt\", sep=\"\\t\", header=TRUE)\n",
        "days"
      ]
    },
    {
      "cell_type": "markdown",
      "metadata": {
        "id": "6ovIMArfGJLa"
      },
      "source": [
        "### A. Predict naive forecasts of patient days for February and June."
      ]
    },
    {
      "cell_type": "code",
      "execution_count": null,
      "metadata": {
        "colab": {
          "base_uri": "https://localhost:8080/"
        },
        "id": "Yu9j5cp2Hfdt",
        "outputId": "f2687a3b-01f1-434f-dc70-4ddc9bc3c6c3"
      },
      "outputs": [
        {
          "name": "stdout",
          "output_type": "stream",
          "text": [
            "Patient days for February:  483 \n",
            "Patient days for February:  453"
          ]
        }
      ],
      "source": [
        "february <- days$Patient.days[days$Month == 'February']\n",
        "cat('Patient days for February: ', february, '\\n')\n",
        "\n",
        "june <- days$Patient.days[days$Month == 'June']\n",
        "cat('Patient days for February: ', june)"
      ]
    },
    {
      "cell_type": "markdown",
      "metadata": {
        "id": "IragKX84IXKj"
      },
      "source": [
        "### B. Predict the patient days for January using a four-period moving average."
      ]
    },
    {
      "cell_type": "code",
      "execution_count": null,
      "metadata": {
        "colab": {
          "base_uri": "https://localhost:8080/"
        },
        "id": "PZWN4Q1sV_ne",
        "outputId": "ce564a2f-3dd0-44ac-97d4-a2c2b068281f"
      },
      "outputs": [
        {
          "name": "stdout",
          "output_type": "stream",
          "text": [
            "Patient days for January: 452.5"
          ]
        }
      ],
      "source": [
        "four_period_january <- mean(tail(days$Patient.days, 4))\n",
        "cat('Patient days for January:', four_period_january)\n",
        "# patient days for january is 453"
      ]
    },
    {
      "cell_type": "markdown",
      "metadata": {
        "id": "SPczwc8fWU-b"
      },
      "source": [
        "### C. Predict the patient days for January, using the six-period moving average"
      ]
    },
    {
      "cell_type": "code",
      "execution_count": null,
      "metadata": {
        "colab": {
          "base_uri": "https://localhost:8080/"
        },
        "id": "D8V2e95jWYsj",
        "outputId": "19c6a7c8-9d48-49ca-abce-75b551a67ea8"
      },
      "outputs": [
        {
          "name": "stdout",
          "output_type": "stream",
          "text": [
            "Patient days for January: 441.1667"
          ]
        }
      ],
      "source": [
        "six_period_january <- mean(tail(days$Patient.days, 6))\n",
        "cat('Patient days for January:', six_period_january)\n",
        "# patient days for january is 442"
      ]
    },
    {
      "cell_type": "markdown",
      "metadata": {
        "id": "1gWCqo39Wkqw"
      },
      "source": [
        "### D. Plot the actual data and the results of the four-period and the six-period moving averages. Which method is a better predictor?"
      ]
    },
    {
      "cell_type": "code",
      "execution_count": null,
      "metadata": {
        "colab": {
          "base_uri": "https://localhost:8080/",
          "height": 474
        },
        "id": "CLpxx5suIcyc",
        "outputId": "b3d13320-a93d-41b8-ea42-d5e36b83cd2d"
      },
      "outputs": [
        {
          "data": {
            "text/html": [
              "<table class=\"dataframe\">\n",
              "<caption>A data.frame: 12 × 4</caption>\n",
              "<thead>\n",
              "\t<tr><th scope=col>Month</th><th scope=col>Patient.days</th><th scope=col>Four_Day_Moving_Average</th><th scope=col>Six_Day_Moving_Average</th></tr>\n",
              "\t<tr><th scope=col>&lt;fct&gt;</th><th scope=col>&lt;int&gt;</th><th scope=col>&lt;dbl&gt;</th><th scope=col>&lt;dbl&gt;</th></tr>\n",
              "</thead>\n",
              "<tbody>\n",
              "\t<tr><td>January  </td><td>434</td><td>    NA</td><td>      NA</td></tr>\n",
              "\t<tr><td>February </td><td>483</td><td>    NA</td><td>      NA</td></tr>\n",
              "\t<tr><td>March    </td><td>412</td><td>    NA</td><td>      NA</td></tr>\n",
              "\t<tr><td>April    </td><td>423</td><td>438.00</td><td>      NA</td></tr>\n",
              "\t<tr><td>May      </td><td>484</td><td>450.50</td><td>      NA</td></tr>\n",
              "\t<tr><td>June     </td><td>453</td><td>443.00</td><td>448.1667</td></tr>\n",
              "\t<tr><td>July     </td><td>433</td><td>448.25</td><td>448.0000</td></tr>\n",
              "\t<tr><td>August   </td><td>404</td><td>443.50</td><td>434.8333</td></tr>\n",
              "\t<tr><td>September</td><td>464</td><td>438.50</td><td>443.5000</td></tr>\n",
              "\t<tr><td>October  </td><td>403</td><td>426.00</td><td>440.1667</td></tr>\n",
              "\t<tr><td>November </td><td>452</td><td>430.75</td><td>434.8333</td></tr>\n",
              "\t<tr><td>December </td><td>491</td><td>452.50</td><td>441.1667</td></tr>\n",
              "</tbody>\n",
              "</table>\n"
            ],
            "text/latex": "A data.frame: 12 × 4\n\\begin{tabular}{llll}\n Month & Patient.days & Four\\_Day\\_Moving\\_Average & Six\\_Day\\_Moving\\_Average\\\\\n <fct> & <int> & <dbl> & <dbl>\\\\\n\\hline\n\t January   & 434 &     NA &       NA\\\\\n\t February  & 483 &     NA &       NA\\\\\n\t March     & 412 &     NA &       NA\\\\\n\t April     & 423 & 438.00 &       NA\\\\\n\t May       & 484 & 450.50 &       NA\\\\\n\t June      & 453 & 443.00 & 448.1667\\\\\n\t July      & 433 & 448.25 & 448.0000\\\\\n\t August    & 404 & 443.50 & 434.8333\\\\\n\t September & 464 & 438.50 & 443.5000\\\\\n\t October   & 403 & 426.00 & 440.1667\\\\\n\t November  & 452 & 430.75 & 434.8333\\\\\n\t December  & 491 & 452.50 & 441.1667\\\\\n\\end{tabular}\n",
            "text/markdown": "\nA data.frame: 12 × 4\n\n| Month &lt;fct&gt; | Patient.days &lt;int&gt; | Four_Day_Moving_Average &lt;dbl&gt; | Six_Day_Moving_Average &lt;dbl&gt; |\n|---|---|---|---|\n| January   | 434 |     NA |       NA |\n| February  | 483 |     NA |       NA |\n| March     | 412 |     NA |       NA |\n| April     | 423 | 438.00 |       NA |\n| May       | 484 | 450.50 |       NA |\n| June      | 453 | 443.00 | 448.1667 |\n| July      | 433 | 448.25 | 448.0000 |\n| August    | 404 | 443.50 | 434.8333 |\n| September | 464 | 438.50 | 443.5000 |\n| October   | 403 | 426.00 | 440.1667 |\n| November  | 452 | 430.75 | 434.8333 |\n| December  | 491 | 452.50 | 441.1667 |\n\n",
            "text/plain": [
              "   Month     Patient.days Four_Day_Moving_Average Six_Day_Moving_Average\n",
              "1  January   434              NA                        NA              \n",
              "2  February  483              NA                        NA              \n",
              "3  March     412              NA                        NA              \n",
              "4  April     423          438.00                        NA              \n",
              "5  May       484          450.50                        NA              \n",
              "6  June      453          443.00                  448.1667              \n",
              "7  July      433          448.25                  448.0000              \n",
              "8  August    404          443.50                  434.8333              \n",
              "9  September 464          438.50                  443.5000              \n",
              "10 October   403          426.00                  440.1667              \n",
              "11 November  452          430.75                  434.8333              \n",
              "12 December  491          452.50                  441.1667              "
            ]
          },
          "metadata": {},
          "output_type": "display_data"
        }
      ],
      "source": [
        "four_day_moving_average <- numeric(length(days$Patient.days))\n",
        "six_day_moving_average <- numeric(length(days$Patient.days))\n",
        "\n",
        "# Calculate the four-period moving average\n",
        "for (i in 4:length(days$Patient.days)) {  # iteration starts from fourth element and continues to end of vector\n",
        "  four_day_moving_average[i] <- mean(days$Patient.days[(i - 3):i]) # mean of i and previous 3 elements\n",
        "}\n",
        "\n",
        "# Calculate the six-period moving average\n",
        "for (i in 6:length(days$Patient.days)) {\n",
        "  six_day_moving_average[i] <- mean(days$Patient.days[(i - 5):i])\n",
        "}\n",
        "\n",
        "# add NA for first three values\n",
        "four_day_moving_average[1:3] <- NA\n",
        "six_day_moving_average[1:5] <- NA\n",
        "\n",
        "# Add the moving averages as a new column\n",
        "days$Four_Day_Moving_Average <- four_day_moving_average\n",
        "days$Six_Day_Moving_Average <- six_day_moving_average\n",
        "\n",
        "# Convert month column into a factor\n",
        "days$Month <- as.factor(days$Month)\n",
        "\n",
        "# Print the dataframe with the new column\n",
        "days"
      ]
    },
    {
      "cell_type": "code",
      "execution_count": null,
      "metadata": {
        "colab": {
          "base_uri": "https://localhost:8080/",
          "height": 437
        },
        "id": "yBLaukNUhfHP",
        "outputId": "a1602663-984b-4512-b51f-a3512f5e4b3d"
      },
      "outputs": [
        {
          "data": {
            "image/png": "[encoded data removed]",
            "text/plain": [
              "plot without title"
            ]
          },
          "metadata": {
            "image/png": {
              "height": 420,
              "width": 420
            }
          },
          "output_type": "display_data"
        }
      ],
      "source": [
        "ggplot(days, aes(x = factor(Month, levels=unique(Month)), group=1)) +\n",
        "  geom_line(aes(y = Patient.days), color='black') +\n",
        "  geom_line(aes(y = Four_Day_Moving_Average), color = \"red\", na.rm=TRUE) +\n",
        "  geom_line(aes(y = Six_Day_Moving_Average), color = \"blue\", na.rm=TRUE) +\n",
        "  labs(x = \"Month\", y='Patient Days', title='Comparison of Predictive Forecasting Models')"
      ]
    },
    {
      "cell_type": "markdown",
      "metadata": {
        "id": "2SxML5DykHfx"
      },
      "source": [
        "Six day moving average is the better predictor since it's starting to get that up and down trend that we see in the actual data."
      ]
    },
    {
      "cell_type": "markdown",
      "source": [
        "Have to calculate the MAE dor the two models to distinguish which one is better. You can't tell from the graph alone"
      ],
      "metadata": {
        "id": "BwNuWfduA0F5"
      }
    },
    {
      "cell_type": "markdown",
      "metadata": {
        "id": "xHbDAC3Genhc"
      },
      "source": [
        "## Question 3: Using Data from Q1"
      ]
    },
    {
      "cell_type": "code",
      "execution_count": null,
      "metadata": {
        "colab": {
          "base_uri": "https://localhost:8080/",
          "height": 286
        },
        "id": "DoOAgGdUgo1Y",
        "outputId": "473ae285-13ff-4008-90da-7d045d2029a8"
      },
      "outputs": [
        {
          "data": {
            "text/html": [
              "<table class=\"dataframe\">\n",
              "<caption>A data.frame: 6 × 2</caption>\n",
              "<thead>\n",
              "\t<tr><th scope=col>Months</th><th scope=col>Visits</th></tr>\n",
              "\t<tr><th scope=col>&lt;chr&gt;</th><th scope=col>&lt;int&gt;</th></tr>\n",
              "</thead>\n",
              "<tbody>\n",
              "\t<tr><td>January </td><td>1620</td></tr>\n",
              "\t<tr><td>February</td><td>1567</td></tr>\n",
              "\t<tr><td>March   </td><td>1968</td></tr>\n",
              "\t<tr><td>April   </td><td>1757</td></tr>\n",
              "\t<tr><td>May     </td><td>1633</td></tr>\n",
              "\t<tr><td>June    </td><td>1865</td></tr>\n",
              "</tbody>\n",
              "</table>\n"
            ],
            "text/latex": "A data.frame: 6 × 2\n\\begin{tabular}{ll}\n Months & Visits\\\\\n <chr> & <int>\\\\\n\\hline\n\t January  & 1620\\\\\n\t February & 1567\\\\\n\t March    & 1968\\\\\n\t April    & 1757\\\\\n\t May      & 1633\\\\\n\t June     & 1865\\\\\n\\end{tabular}\n",
            "text/markdown": "\nA data.frame: 6 × 2\n\n| Months &lt;chr&gt; | Visits &lt;int&gt; |\n|---|---|\n| January  | 1620 |\n| February | 1567 |\n| March    | 1968 |\n| April    | 1757 |\n| May      | 1633 |\n| June     | 1865 |\n\n",
            "text/plain": [
              "  Months   Visits\n",
              "1 January  1620  \n",
              "2 February 1567  \n",
              "3 March    1968  \n",
              "4 April    1757  \n",
              "5 May      1633  \n",
              "6 June     1865  "
            ]
          },
          "metadata": {},
          "output_type": "display_data"
        }
      ],
      "source": [
        "ambulatory"
      ]
    },
    {
      "cell_type": "markdown",
      "metadata": {
        "id": "tb9UWQFnet7D"
      },
      "source": [
        "### A. Prepare a forecast for July visits using simple exponential smoothing with α = 0.3"
      ]
    },
    {
      "cell_type": "code",
      "execution_count": null,
      "metadata": {
        "colab": {
          "base_uri": "https://localhost:8080/",
          "height": 286
        },
        "id": "NrM6Prbnb8UL",
        "outputId": "a6b10a6f-8b42-4226-a768-040b2ac07119"
      },
      "outputs": [
        {
          "data": {
            "text/html": [
              "<table class=\"dataframe\">\n",
              "<caption>A data.frame: 6 × 3</caption>\n",
              "<thead>\n",
              "\t<tr><th scope=col>Months</th><th scope=col>Visits</th><th scope=col>a_0.3</th></tr>\n",
              "\t<tr><th scope=col>&lt;chr&gt;</th><th scope=col>&lt;int&gt;</th><th scope=col>&lt;dbl&gt;</th></tr>\n",
              "</thead>\n",
              "<tbody>\n",
              "\t<tr><td>January </td><td>1620</td><td>      NA</td></tr>\n",
              "\t<tr><td>February</td><td>1567</td><td>1620.000</td></tr>\n",
              "\t<tr><td>March   </td><td>1968</td><td>1724.400</td></tr>\n",
              "\t<tr><td>April   </td><td>1757</td><td>1734.180</td></tr>\n",
              "\t<tr><td>May     </td><td>1633</td><td>1703.826</td></tr>\n",
              "\t<tr><td>June    </td><td>1865</td><td>1752.178</td></tr>\n",
              "</tbody>\n",
              "</table>\n"
            ],
            "text/latex": "A data.frame: 6 × 3\n\\begin{tabular}{lll}\n Months & Visits & a\\_0.3\\\\\n <chr> & <int> & <dbl>\\\\\n\\hline\n\t January  & 1620 &       NA\\\\\n\t February & 1567 & 1620.000\\\\\n\t March    & 1968 & 1724.400\\\\\n\t April    & 1757 & 1734.180\\\\\n\t May      & 1633 & 1703.826\\\\\n\t June     & 1865 & 1752.178\\\\\n\\end{tabular}\n",
            "text/markdown": "\nA data.frame: 6 × 3\n\n| Months &lt;chr&gt; | Visits &lt;int&gt; | a_0.3 &lt;dbl&gt; |\n|---|---|---|\n| January  | 1620 |       NA |\n| February | 1567 | 1620.000 |\n| March    | 1968 | 1724.400 |\n| April    | 1757 | 1734.180 |\n| May      | 1633 | 1703.826 |\n| June     | 1865 | 1752.178 |\n\n",
            "text/plain": [
              "  Months   Visits a_0.3   \n",
              "1 January  1620         NA\n",
              "2 February 1567   1620.000\n",
              "3 March    1968   1724.400\n",
              "4 April    1757   1734.180\n",
              "5 May      1633   1703.826\n",
              "6 June     1865   1752.178"
            ]
          },
          "metadata": {},
          "output_type": "display_data"
        }
      ],
      "source": [
        "ambulatory$a_0.3[1] <- NA\n",
        "ambulatory$a_0.3[2] <- ambulatory$Visits[1]\n",
        "\n",
        "# Calculate forecasts for a=0.3\n",
        "for (i in 3:nrow(ambulatory)) {\n",
        "  ambulatory$a_0.3[i] <- ambulatory$a_0.3[i - 1] + 0.3 * (ambulatory$Visits[i] - ambulatory$a_0.3[i - 1])}\n",
        "\n",
        "ambulatory"
      ]
    },
    {
      "cell_type": "code",
      "execution_count": null,
      "metadata": {
        "colab": {
          "base_uri": "https://localhost:8080/"
        },
        "id": "YEIIrcAyrWgR",
        "outputId": "71f9484d-99b0-455c-fca1-fffb3f266709"
      },
      "outputs": [
        {
          "name": "stdout",
          "output_type": "stream",
          "text": [
            "Forecast for july: 1786.025"
          ]
        }
      ],
      "source": [
        "# Prepare the forcast for July\n",
        "predicted_june <- ambulatory$a_0.3[ambulatory$Months == 'June']\n",
        "actual_june <- ambulatory$Visits[ambulatory$Months == 'June']\n",
        "\n",
        "july_a_0.3 <- predicted_june + 0.3*(actual_june - predicted_june)\n",
        "cat('Forecast for july:', july_a_0.3)"
      ]
    },
    {
      "cell_type": "markdown",
      "metadata": {
        "id": "nANXzLyDsIx8"
      },
      "source": [
        "### B. If α = 0.5, what is the predicted value for July visits?"
      ]
    },
    {
      "cell_type": "code",
      "execution_count": null,
      "metadata": {
        "colab": {
          "base_uri": "https://localhost:8080/",
          "height": 286
        },
        "id": "8CCtRBtnsLe4",
        "outputId": "0ea1dfcf-b66b-40d2-c5a1-2a02b93fbb20"
      },
      "outputs": [
        {
          "data": {
            "text/html": [
              "<table class=\"dataframe\">\n",
              "<caption>A data.frame: 6 × 4</caption>\n",
              "<thead>\n",
              "\t<tr><th scope=col>Months</th><th scope=col>Visits</th><th scope=col>a_0.3</th><th scope=col>a_0.5</th></tr>\n",
              "\t<tr><th scope=col>&lt;chr&gt;</th><th scope=col>&lt;int&gt;</th><th scope=col>&lt;dbl&gt;</th><th scope=col>&lt;dbl&gt;</th></tr>\n",
              "</thead>\n",
              "<tbody>\n",
              "\t<tr><td>January </td><td>1620</td><td>      NA</td><td>      NA</td></tr>\n",
              "\t<tr><td>February</td><td>1567</td><td>1620.000</td><td>1620.000</td></tr>\n",
              "\t<tr><td>March   </td><td>1968</td><td>1724.400</td><td>1794.000</td></tr>\n",
              "\t<tr><td>April   </td><td>1757</td><td>1734.180</td><td>1775.500</td></tr>\n",
              "\t<tr><td>May     </td><td>1633</td><td>1703.826</td><td>1704.250</td></tr>\n",
              "\t<tr><td>June    </td><td>1865</td><td>1752.178</td><td>1784.625</td></tr>\n",
              "</tbody>\n",
              "</table>\n"
            ],
            "text/latex": "A data.frame: 6 × 4\n\\begin{tabular}{llll}\n Months & Visits & a\\_0.3 & a\\_0.5\\\\\n <chr> & <int> & <dbl> & <dbl>\\\\\n\\hline\n\t January  & 1620 &       NA &       NA\\\\\n\t February & 1567 & 1620.000 & 1620.000\\\\\n\t March    & 1968 & 1724.400 & 1794.000\\\\\n\t April    & 1757 & 1734.180 & 1775.500\\\\\n\t May      & 1633 & 1703.826 & 1704.250\\\\\n\t June     & 1865 & 1752.178 & 1784.625\\\\\n\\end{tabular}\n",
            "text/markdown": "\nA data.frame: 6 × 4\n\n| Months &lt;chr&gt; | Visits &lt;int&gt; | a_0.3 &lt;dbl&gt; | a_0.5 &lt;dbl&gt; |\n|---|---|---|---|\n| January  | 1620 |       NA |       NA |\n| February | 1567 | 1620.000 | 1620.000 |\n| March    | 1968 | 1724.400 | 1794.000 |\n| April    | 1757 | 1734.180 | 1775.500 |\n| May      | 1633 | 1703.826 | 1704.250 |\n| June     | 1865 | 1752.178 | 1784.625 |\n\n",
            "text/plain": [
              "  Months   Visits a_0.3    a_0.5   \n",
              "1 January  1620         NA       NA\n",
              "2 February 1567   1620.000 1620.000\n",
              "3 March    1968   1724.400 1794.000\n",
              "4 April    1757   1734.180 1775.500\n",
              "5 May      1633   1703.826 1704.250\n",
              "6 June     1865   1752.178 1784.625"
            ]
          },
          "metadata": {},
          "output_type": "display_data"
        }
      ],
      "source": [
        "ambulatory$a_0.5[1] <- NA\n",
        "ambulatory$a_0.5[2] <- ambulatory$Visits[1]\n",
        "\n",
        "# Calculate forecasts for a=0.5\n",
        "for (i in 3:nrow(ambulatory)) {\n",
        "  ambulatory$a_0.5[i] <- ambulatory$a_0.5[i - 1] + 0.5 * (ambulatory$Visits[i] - ambulatory$a_0.5[i - 1])}\n",
        "\n",
        "ambulatory"
      ]
    },
    {
      "cell_type": "code",
      "execution_count": null,
      "metadata": {
        "colab": {
          "base_uri": "https://localhost:8080/"
        },
        "id": "G-LnyRM8sXz6",
        "outputId": "6dd59d45-da03-448d-b67b-12e9c61b430b"
      },
      "outputs": [
        {
          "name": "stdout",
          "output_type": "stream",
          "text": [
            "Forecast for july: 1824.812"
          ]
        }
      ],
      "source": [
        "# Prepare the forcast for July\n",
        "predicted_june <- ambulatory$a_0.5[ambulatory$Months == 'June']\n",
        "actual_june <- ambulatory$Visits[ambulatory$Months == 'June']\n",
        "\n",
        "july_a_0.5 <- predicted_june + 0.5*(actual_june - predicted_june)\n",
        "cat('Forecast for july:', july_a_0.5)"
      ]
    },
    {
      "cell_type": "markdown",
      "metadata": {
        "id": "oMSiya3ytDNr"
      },
      "source": [
        "### C. If α = 0.0, what is the predicted value for July visits?"
      ]
    },
    {
      "cell_type": "code",
      "execution_count": null,
      "metadata": {
        "colab": {
          "base_uri": "https://localhost:8080/",
          "height": 286
        },
        "id": "FUeOdZc0tF3H",
        "outputId": "395ce484-e8e9-42ec-e918-0f9e43a95cef"
      },
      "outputs": [
        {
          "data": {
            "text/html": [
              "<table class=\"dataframe\">\n",
              "<caption>A data.frame: 6 × 5</caption>\n",
              "<thead>\n",
              "\t<tr><th scope=col>Months</th><th scope=col>Visits</th><th scope=col>a_0.3</th><th scope=col>a_0.5</th><th scope=col>a_0</th></tr>\n",
              "\t<tr><th scope=col>&lt;chr&gt;</th><th scope=col>&lt;int&gt;</th><th scope=col>&lt;dbl&gt;</th><th scope=col>&lt;dbl&gt;</th><th scope=col>&lt;dbl&gt;</th></tr>\n",
              "</thead>\n",
              "<tbody>\n",
              "\t<tr><td>January </td><td>1620</td><td>      NA</td><td>      NA</td><td>  NA</td></tr>\n",
              "\t<tr><td>February</td><td>1567</td><td>1620.000</td><td>1620.000</td><td>1620</td></tr>\n",
              "\t<tr><td>March   </td><td>1968</td><td>1724.400</td><td>1794.000</td><td>1620</td></tr>\n",
              "\t<tr><td>April   </td><td>1757</td><td>1734.180</td><td>1775.500</td><td>1620</td></tr>\n",
              "\t<tr><td>May     </td><td>1633</td><td>1703.826</td><td>1704.250</td><td>1620</td></tr>\n",
              "\t<tr><td>June    </td><td>1865</td><td>1752.178</td><td>1784.625</td><td>1620</td></tr>\n",
              "</tbody>\n",
              "</table>\n"
            ],
            "text/latex": "A data.frame: 6 × 5\n\\begin{tabular}{lllll}\n Months & Visits & a\\_0.3 & a\\_0.5 & a\\_0\\\\\n <chr> & <int> & <dbl> & <dbl> & <dbl>\\\\\n\\hline\n\t January  & 1620 &       NA &       NA &   NA\\\\\n\t February & 1567 & 1620.000 & 1620.000 & 1620\\\\\n\t March    & 1968 & 1724.400 & 1794.000 & 1620\\\\\n\t April    & 1757 & 1734.180 & 1775.500 & 1620\\\\\n\t May      & 1633 & 1703.826 & 1704.250 & 1620\\\\\n\t June     & 1865 & 1752.178 & 1784.625 & 1620\\\\\n\\end{tabular}\n",
            "text/markdown": "\nA data.frame: 6 × 5\n\n| Months &lt;chr&gt; | Visits &lt;int&gt; | a_0.3 &lt;dbl&gt; | a_0.5 &lt;dbl&gt; | a_0 &lt;dbl&gt; |\n|---|---|---|---|---|\n| January  | 1620 |       NA |       NA |   NA |\n| February | 1567 | 1620.000 | 1620.000 | 1620 |\n| March    | 1968 | 1724.400 | 1794.000 | 1620 |\n| April    | 1757 | 1734.180 | 1775.500 | 1620 |\n| May      | 1633 | 1703.826 | 1704.250 | 1620 |\n| June     | 1865 | 1752.178 | 1784.625 | 1620 |\n\n",
            "text/plain": [
              "  Months   Visits a_0.3    a_0.5    a_0 \n",
              "1 January  1620         NA       NA   NA\n",
              "2 February 1567   1620.000 1620.000 1620\n",
              "3 March    1968   1724.400 1794.000 1620\n",
              "4 April    1757   1734.180 1775.500 1620\n",
              "5 May      1633   1703.826 1704.250 1620\n",
              "6 June     1865   1752.178 1784.625 1620"
            ]
          },
          "metadata": {},
          "output_type": "display_data"
        }
      ],
      "source": [
        "ambulatory$a_0[1] <- NA\n",
        "ambulatory$a_0[2] <- ambulatory$Visits[1]\n",
        "\n",
        "# Calculate forecasts for a=0.0\n",
        "for (i in 3:nrow(ambulatory)) {\n",
        "  ambulatory$a_0[i] <- ambulatory$a_0[i - 1] + 0}\n",
        "\n",
        "ambulatory"
      ]
    },
    {
      "cell_type": "code",
      "execution_count": null,
      "metadata": {
        "colab": {
          "base_uri": "https://localhost:8080/"
        },
        "id": "WpchqPbTtfG2",
        "outputId": "20201faf-1166-439f-f19f-39e8172522f2"
      },
      "outputs": [
        {
          "name": "stdout",
          "output_type": "stream",
          "text": [
            "Forecast for july: 1620"
          ]
        }
      ],
      "source": [
        "# Prepare the forcast for July\n",
        "predicted_june <- ambulatory$a_0[ambulatory$Months == 'June']\n",
        "actual_june <- ambulatory$Visits[ambulatory$Months == 'June']\n",
        "\n",
        "july_a_0 <- predicted_june + 0*(actual_june - predicted_june)\n",
        "cat('Forecast for july:', july_a_0)"
      ]
    },
    {
      "cell_type": "markdown",
      "metadata": {
        "id": "rwf79tO3tkZ4"
      },
      "source": [
        "### D. If α = 1.0, what is the predicted value for July visits?"
      ]
    },
    {
      "cell_type": "code",
      "execution_count": null,
      "metadata": {
        "colab": {
          "base_uri": "https://localhost:8080/",
          "height": 286
        },
        "id": "h-7j6KSjtoTF",
        "outputId": "2d399d5d-1b1e-4a4f-d712-d30831ec4c16"
      },
      "outputs": [
        {
          "data": {
            "text/html": [
              "<table class=\"dataframe\">\n",
              "<caption>A data.frame: 6 × 6</caption>\n",
              "<thead>\n",
              "\t<tr><th scope=col>Months</th><th scope=col>Visits</th><th scope=col>a_0.3</th><th scope=col>a_0.5</th><th scope=col>a_0</th><th scope=col>a_1</th></tr>\n",
              "\t<tr><th scope=col>&lt;chr&gt;</th><th scope=col>&lt;int&gt;</th><th scope=col>&lt;dbl&gt;</th><th scope=col>&lt;dbl&gt;</th><th scope=col>&lt;dbl&gt;</th><th scope=col>&lt;int&gt;</th></tr>\n",
              "</thead>\n",
              "<tbody>\n",
              "\t<tr><td>January </td><td>1620</td><td>      NA</td><td>      NA</td><td>  NA</td><td>1620</td></tr>\n",
              "\t<tr><td>February</td><td>1567</td><td>1620.000</td><td>1620.000</td><td>1620</td><td>1567</td></tr>\n",
              "\t<tr><td>March   </td><td>1968</td><td>1724.400</td><td>1794.000</td><td>1620</td><td>1968</td></tr>\n",
              "\t<tr><td>April   </td><td>1757</td><td>1734.180</td><td>1775.500</td><td>1620</td><td>1757</td></tr>\n",
              "\t<tr><td>May     </td><td>1633</td><td>1703.826</td><td>1704.250</td><td>1620</td><td>1633</td></tr>\n",
              "\t<tr><td>June    </td><td>1865</td><td>1752.178</td><td>1784.625</td><td>1620</td><td>1865</td></tr>\n",
              "</tbody>\n",
              "</table>\n"
            ],
            "text/latex": "A data.frame: 6 × 6\n\\begin{tabular}{llllll}\n Months & Visits & a\\_0.3 & a\\_0.5 & a\\_0 & a\\_1\\\\\n <chr> & <int> & <dbl> & <dbl> & <dbl> & <int>\\\\\n\\hline\n\t January  & 1620 &       NA &       NA &   NA & 1620\\\\\n\t February & 1567 & 1620.000 & 1620.000 & 1620 & 1567\\\\\n\t March    & 1968 & 1724.400 & 1794.000 & 1620 & 1968\\\\\n\t April    & 1757 & 1734.180 & 1775.500 & 1620 & 1757\\\\\n\t May      & 1633 & 1703.826 & 1704.250 & 1620 & 1633\\\\\n\t June     & 1865 & 1752.178 & 1784.625 & 1620 & 1865\\\\\n\\end{tabular}\n",
            "text/markdown": "\nA data.frame: 6 × 6\n\n| Months &lt;chr&gt; | Visits &lt;int&gt; | a_0.3 &lt;dbl&gt; | a_0.5 &lt;dbl&gt; | a_0 &lt;dbl&gt; | a_1 &lt;int&gt; |\n|---|---|---|---|---|---|\n| January  | 1620 |       NA |       NA |   NA | 1620 |\n| February | 1567 | 1620.000 | 1620.000 | 1620 | 1567 |\n| March    | 1968 | 1724.400 | 1794.000 | 1620 | 1968 |\n| April    | 1757 | 1734.180 | 1775.500 | 1620 | 1757 |\n| May      | 1633 | 1703.826 | 1704.250 | 1620 | 1633 |\n| June     | 1865 | 1752.178 | 1784.625 | 1620 | 1865 |\n\n",
            "text/plain": [
              "  Months   Visits a_0.3    a_0.5    a_0  a_1 \n",
              "1 January  1620         NA       NA   NA 1620\n",
              "2 February 1567   1620.000 1620.000 1620 1567\n",
              "3 March    1968   1724.400 1794.000 1620 1968\n",
              "4 April    1757   1734.180 1775.500 1620 1757\n",
              "5 May      1633   1703.826 1704.250 1620 1633\n",
              "6 June     1865   1752.178 1784.625 1620 1865"
            ]
          },
          "metadata": {},
          "output_type": "display_data"
        }
      ],
      "source": [
        "ambulatory$a_1[1] <- NA\n",
        "ambulatory$a_1[2] <- ambulatory$Visits[1]\n",
        "\n",
        "# Calculate forecasts for a=1.0\n",
        "for (i in 1:nrow(ambulatory)) {\n",
        "  if(i == 1) {\n",
        "    ambulatory$a_1[i] <- ambulatory$Visits[i]\n",
        "  } else {\n",
        "  ambulatory$a_1[i] <- ambulatory$a_1[i - 1] + (ambulatory$Visits[i] - ambulatory$a_1[i - 1])\n",
        "  }\n",
        "}\n",
        "\n",
        "ambulatory"
      ]
    },
    {
      "cell_type": "code",
      "execution_count": null,
      "metadata": {
        "colab": {
          "base_uri": "https://localhost:8080/"
        },
        "id": "BOG6E1YQuKeP",
        "outputId": "d2282053-0ae0-4f54-c285-0724943ba762"
      },
      "outputs": [
        {
          "name": "stdout",
          "output_type": "stream",
          "text": [
            "Forecast for july: 1865"
          ]
        }
      ],
      "source": [
        "# Prepare the forcast for July\n",
        "predicted_june <- ambulatory$a_1[ambulatory$Months == 'June']\n",
        "actual_june <- ambulatory$Visits[ambulatory$Months == 'June']\n",
        "\n",
        "july_a_1 <- predicted_june + (actual_june - predicted_june)\n",
        "cat('Forecast for july:', july_a_1)"
      ]
    },
    {
      "cell_type": "markdown",
      "metadata": {
        "id": "kmXZtu28vuFV"
      },
      "source": [
        "## Question 4: You are a data analyst working at a hospital and the hospital's pharmacy department has requested your expertise in conducting a time series forecasting analysis to predict future drug orders. You have access to a dataset named drug_orders.csv, which contains historical drug order data. Date records the date of each drug order, and Drug_Orders logs the number of drug orders placed on each day.\n",
        "1. Fit an ETS and an Auto ARIMA model to predict January 2023's drug orders.\n",
        "2. Compare these models' predictions for the month of December 2022.\n",
        "3. Which model is the better predictor?"
      ]
    },
    {
      "cell_type": "code",
      "execution_count": 1,
      "metadata": {
        "colab": {
          "base_uri": "https://localhost:8080/"
        },
        "id": "GPwzWqrSyQqm",
        "outputId": "456f8d57-af51-4b98-e7fc-bfe5ccaac105"
      },
      "outputs": [
        {
          "output_type": "stream",
          "name": "stderr",
          "text": [
            "Installing package into ‘/usr/local/lib/R/site-library’\n",
            "(as ‘lib’ is unspecified)\n",
            "\n",
            "also installing the dependencies ‘xts’, ‘TTR’, ‘quadprog’, ‘quantmod’, ‘fracdiff’, ‘lmtest’, ‘Rcpp’, ‘timeDate’, ‘tseries’, ‘urca’, ‘zoo’, ‘RcppArmadillo’\n",
            "\n",
            "\n",
            "Installing package into ‘/usr/local/lib/R/site-library’\n",
            "(as ‘lib’ is unspecified)\n",
            "\n",
            "also installing the dependencies ‘bitops’, ‘gtools’, ‘caTools’, ‘gplots’, ‘ROCR’\n",
            "\n",
            "\n",
            "Registered S3 method overwritten by 'quantmod':\n",
            "  method            from\n",
            "  as.zoo.data.frame zoo \n",
            "\n",
            "\n",
            "Attaching package: ‘MLmetrics’\n",
            "\n",
            "\n",
            "The following object is masked from ‘package:base’:\n",
            "\n",
            "    Recall\n",
            "\n",
            "\n"
          ]
        }
      ],
      "source": [
        "install.packages(\"forecast\")\n",
        "install.packages(\"MLmetrics\")\n",
        "library(forecast)\n",
        "library(MLmetrics)"
      ]
    },
    {
      "cell_type": "code",
      "execution_count": 25,
      "metadata": {
        "id": "s-rCfHvBvbMR"
      },
      "outputs": [],
      "source": [
        "drug_orders_data <- read.csv(\"drug_orders.csv\")\n",
        "data_ts <- ts(drug_orders_data$Drug_Orders, start=c(2022, 1), frequency=365)"
      ]
    },
    {
      "cell_type": "code",
      "execution_count": 18,
      "metadata": {
        "id": "YPWO4dcRzYZe"
      },
      "outputs": [],
      "source": [
        "# Fit an ETS and an Auto ARIMA model to predict January 2023's drug orders.\n",
        "ets_model <- ets(data_ts, allow.multiplicative.trend = TRUE) # there are 31 days in January\n",
        "ets_forecast = forecast(ets_model, h=31)\n",
        "\n",
        "auto_arima_model <- auto.arima(data_ts)\n",
        "arima_forecast <- forecast(auto_arima_model, h=31)"
      ]
    },
    {
      "cell_type": "code",
      "execution_count": 19,
      "metadata": {
        "id": "H4zGolh54-Fj"
      },
      "outputs": [],
      "source": [
        "# Comparing the models' predictions for Dec 2022\n",
        "training <- window(data_ts, start = c(2022, 1), end = c(2022, 334))\n",
        "validation <- window(data_ts, start = c(2022, 335))\n",
        "\n",
        "ets_model <- ets(training, allow.multiplicative.trend = TRUE)\n",
        "ets_forecast_december = forecast(ets_model, h=length(validation))\n",
        "\n",
        "auto_arima_model <- auto.arima(training)\n",
        "arima_forecast_december <- forecast(auto_arima_model, h=length(validation))"
      ]
    },
    {
      "cell_type": "code",
      "execution_count": 24,
      "metadata": {
        "id": "HGu2pZG1rdgx",
        "colab": {
          "base_uri": "https://localhost:8080/",
          "height": 52
        },
        "outputId": "0ecab337-c180-4611-eb5d-0a17e552a65f"
      },
      "outputs": [
        {
          "output_type": "display_data",
          "data": {
            "text/html": [
              "19.9200828146508"
            ],
            "text/markdown": "19.9200828146508",
            "text/latex": "19.9200828146508",
            "text/plain": [
              "[1] 19.92008"
            ]
          },
          "metadata": {}
        },
        {
          "output_type": "display_data",
          "data": {
            "text/html": [
              "19.9207302003959"
            ],
            "text/markdown": "19.9207302003959",
            "text/latex": "19.9207302003959",
            "text/plain": [
              "[1] 19.92073"
            ]
          },
          "metadata": {}
        }
      ],
      "source": [
        "# Which model is the better predictor?\n",
        "\n",
        "ets_mape <- MAPE(ets_forecast_december$mean, validation)\n",
        "ets_average_mape <- mean(ets_mape)*100\n",
        "\n",
        "arima_mape <- MAPE(arima_forecast_december$mean, validation)\n",
        "arima_average_mape <- mean(arima_mape)*100\n",
        "\n",
        "ets_average_mape\n",
        "arima_average_mape"
      ]
    },
    {
      "cell_type": "markdown",
      "metadata": {
        "id": "nE1hwYiZ3HEg"
      },
      "source": [
        "## Question 5:  Using the first 80% of glucose values from 563-ws-training.xml, forecast the remaining 20% of the glucose values using SES and DSHW methods. Demonstrate using the appropriate metrics, which of the models is a better predictor of future glucose values. (5 points)"
      ]
    },
    {
      "cell_type": "code",
      "execution_count": null,
      "metadata": {
        "colab": {
          "base_uri": "https://localhost:8080/"
        },
        "id": "9QqKFWxQ3Q2q",
        "outputId": "c76ae701-b6b1-4dd9-b1e9-d6d787737a3c"
      },
      "outputs": [
        {
          "output_type": "stream",
          "name": "stderr",
          "text": [
            "Installing package into ‘/usr/local/lib/R/site-library’\n",
            "(as ‘lib’ is unspecified)\n",
            "\n"
          ]
        }
      ],
      "source": [
        "install.packages('XML')"
      ]
    },
    {
      "cell_type": "code",
      "execution_count": null,
      "metadata": {
        "id": "2npzxofH3jEU"
      },
      "outputs": [],
      "source": [
        "library(XML)"
      ]
    },
    {
      "cell_type": "code",
      "execution_count": null,
      "metadata": {
        "id": "0Vqd5kDh3lZg"
      },
      "outputs": [],
      "source": [
        "xmlFile <- xmlParse(\"563-ws-training.xml\")"
      ]
    },
    {
      "cell_type": "code",
      "execution_count": null,
      "metadata": {
        "id": "ukYWFHFd3_Eh",
        "colab": {
          "base_uri": "https://localhost:8080/",
          "height": 286
        },
        "outputId": "e9f991f9-2eab-4473-aebb-3f99cefc5307"
      },
      "outputs": [
        {
          "output_type": "display_data",
          "data": {
            "text/html": [
              "<table class=\"dataframe\">\n",
              "<caption>A data.frame: 6 × 2</caption>\n",
              "<thead>\n",
              "\t<tr><th></th><th scope=col>glucoseTimes</th><th scope=col>glucoseVals</th></tr>\n",
              "\t<tr><th></th><th scope=col>&lt;dttm&gt;</th><th scope=col>&lt;dbl&gt;</th></tr>\n",
              "</thead>\n",
              "<tbody>\n",
              "\t<tr><th scope=row>1</th><td>2021-09-13 12:33:00</td><td>219</td></tr>\n",
              "\t<tr><th scope=row>2</th><td>2021-09-13 12:38:00</td><td>229</td></tr>\n",
              "\t<tr><th scope=row>3</th><td>2021-09-13 12:43:00</td><td>224</td></tr>\n",
              "\t<tr><th scope=row>4</th><td>2021-09-13 12:48:00</td><td>221</td></tr>\n",
              "\t<tr><th scope=row>5</th><td>2021-09-13 12:53:00</td><td>215</td></tr>\n",
              "\t<tr><th scope=row>6</th><td>2021-09-13 12:58:00</td><td>209</td></tr>\n",
              "</tbody>\n",
              "</table>\n"
            ],
            "text/markdown": "\nA data.frame: 6 × 2\n\n| <!--/--> | glucoseTimes &lt;dttm&gt; | glucoseVals &lt;dbl&gt; |\n|---|---|---|\n| 1 | 2021-09-13 12:33:00 | 219 |\n| 2 | 2021-09-13 12:38:00 | 229 |\n| 3 | 2021-09-13 12:43:00 | 224 |\n| 4 | 2021-09-13 12:48:00 | 221 |\n| 5 | 2021-09-13 12:53:00 | 215 |\n| 6 | 2021-09-13 12:58:00 | 209 |\n\n",
            "text/latex": "A data.frame: 6 × 2\n\\begin{tabular}{r|ll}\n  & glucoseTimes & glucoseVals\\\\\n  & <dttm> & <dbl>\\\\\n\\hline\n\t1 & 2021-09-13 12:33:00 & 219\\\\\n\t2 & 2021-09-13 12:38:00 & 229\\\\\n\t3 & 2021-09-13 12:43:00 & 224\\\\\n\t4 & 2021-09-13 12:48:00 & 221\\\\\n\t5 & 2021-09-13 12:53:00 & 215\\\\\n\t6 & 2021-09-13 12:58:00 & 209\\\\\n\\end{tabular}\n",
            "text/plain": [
              "  glucoseTimes        glucoseVals\n",
              "1 2021-09-13 12:33:00 219        \n",
              "2 2021-09-13 12:38:00 229        \n",
              "3 2021-09-13 12:43:00 224        \n",
              "4 2021-09-13 12:48:00 221        \n",
              "5 2021-09-13 12:53:00 215        \n",
              "6 2021-09-13 12:58:00 209        "
            ]
          },
          "metadata": {}
        }
      ],
      "source": [
        "# training data\n",
        "# getting <event...> Nodes from the XML using XPath\n",
        "events <- getNodeSet(xmlFile, \"//patient/glucose_level/event\")\n",
        "\n",
        "# extracting the timestamps from event tag\n",
        "glucoseTimes <- sapply(events, function(x){as.POSIXct(xmlAttrs(x)[[\"ts\"]], format=\"%d-%m-%Y %H:%M:%S\")})\n",
        "glucoseTimes <- as.POSIXct(glucoseTimes, origin = \"1970-01-01\")\n",
        "\n",
        "# extracting the value from event tag\n",
        "glucoseVals <- sapply(events, function(x){as.numeric(xmlAttrs(x)[[\"value\"]])})\n",
        "\n",
        "# create dataframe\n",
        "df <- data.frame(glucoseTimes, glucoseVals)\n",
        "head(df)"
      ]
    },
    {
      "cell_type": "code",
      "source": [
        "split <- round(nrow(df)*0.8) # taking 80% of rows in dataset and ensuring it's a whole number\n",
        "\n",
        "# extract the first 80% of values for training\n",
        "training <- df[1 : split,]\n",
        "testing <- df[(split+1) : nrow(df),]\n",
        "\n",
        "dim(training)\n",
        "dim(testing)"
      ],
      "metadata": {
        "colab": {
          "base_uri": "https://localhost:8080/",
          "height": 52
        },
        "id": "fbpJ53R4AwQe",
        "outputId": "709c520f-27ce-4207-93a4-6c9acb4a23b0"
      },
      "execution_count": null,
      "outputs": [
        {
          "output_type": "display_data",
          "data": {
            "text/html": [
              "<style>\n",
              ".list-inline {list-style: none; margin:0; padding: 0}\n",
              ".list-inline>li {display: inline-block}\n",
              ".list-inline>li:not(:last-child)::after {content: \"\\00b7\"; padding: 0 .5ex}\n",
              "</style>\n",
              "<ol class=list-inline><li>9699</li><li>2</li></ol>\n"
            ],
            "text/markdown": "1. 9699\n2. 2\n\n\n",
            "text/latex": "\\begin{enumerate*}\n\\item 9699\n\\item 2\n\\end{enumerate*}\n",
            "text/plain": [
              "[1] 9699    2"
            ]
          },
          "metadata": {}
        },
        {
          "output_type": "display_data",
          "data": {
            "text/html": [
              "<style>\n",
              ".list-inline {list-style: none; margin:0; padding: 0}\n",
              ".list-inline>li {display: inline-block}\n",
              ".list-inline>li:not(:last-child)::after {content: \"\\00b7\"; padding: 0 .5ex}\n",
              "</style>\n",
              "<ol class=list-inline><li>2425</li><li>2</li></ol>\n"
            ],
            "text/markdown": "1. 2425\n2. 2\n\n\n",
            "text/latex": "\\begin{enumerate*}\n\\item 2425\n\\item 2\n\\end{enumerate*}\n",
            "text/plain": [
              "[1] 2425    2"
            ]
          },
          "metadata": {}
        }
      ]
    },
    {
      "cell_type": "code",
      "execution_count": null,
      "metadata": {
        "id": "Kzh_l8Sa56Iq"
      },
      "outputs": [],
      "source": [
        "# forecast using SES model\n",
        "ses_model <- ets(training[,2], allow.multiplicative.trend = TRUE)\n",
        "ses_forecast <- forecast(ses_model, h=length(testing[,2]))\n",
        "\n",
        "# forecast using DSHW model\n",
        "dshw_model <- dshw(training[,2], period1=7, period2 = 7*52, h=length(testing[,2]))\n",
        "dswh_forecast <- forecast(dshw_model, h=length(testing[,2]))"
      ]
    },
    {
      "cell_type": "code",
      "source": [
        "# Which model is better?\n",
        "ses_MAPE <- MAPE(ses_forecast$mean, testing[,2])\n",
        "ses_RMSE <- RMSE(ses_forecast$mean, testing[,2])\n",
        "ses_r2 <- R2_Score(ses_forecast$mean, testing[,2])\n",
        "\n",
        "cat('SES model:\\n')\n",
        "cat('MAPE:', round(ses_MAPE,2), '\\n')\n",
        "cat('RMSE:', round(ses_RMSE,2), '\\n')\n",
        "cat('R2:', round(ses_r2,2), '\\n')\n",
        "\n",
        "dshw_MAPE <- MAPE(dswh_forecast$mean, testing[,2])\n",
        "dshw_RMSE <- RMSE(dswh_forecast$mean, testing[,2])\n",
        "dshw_r2 <- R2_Score(dswh_forecast$mean, testing[,2])\n",
        "\n",
        "cat('\\nDSHW model:\\n')\n",
        "cat('MAPE:', round(dshw_MAPE,2), '\\n')\n",
        "cat('RMSE:', round(dshw_RMSE,2), '\\n')\n",
        "cat('R2:', round(dshw_r2,2), '\\n')"
      ],
      "metadata": {
        "colab": {
          "base_uri": "https://localhost:8080/"
        },
        "id": "EldHHeKoCl7m",
        "outputId": "0ac20719-5c66-4085-9516-a30c9901d7d3"
      },
      "execution_count": null,
      "outputs": [
        {
          "output_type": "stream",
          "name": "stdout",
          "text": [
            "SES model:\n",
            "MAPE: 0.28 \n",
            "RMSE: 59.48 \n",
            "R2: -0.38 \n",
            "\n",
            "DSHW model:\n",
            "MAPE: 16.2 \n",
            "RMSE: 2833.28 \n",
            "R2: -3125.83 \n"
          ]
        }
      ]
    }
  ],
  "metadata": {
    "colab": {
      "provenance": []
    },
    "kernelspec": {
      "display_name": "R",
      "name": "ir"
    },
    "language_info": {
      "name": "R"
    }
  },
  "nbformat": 4,
  "nbformat_minor": 0
}
